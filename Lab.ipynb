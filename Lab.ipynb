{
 "cells": [
  {
   "cell_type": "code",
   "execution_count": 1,
   "id": "0321497c-0a12-4b00-9bf0-68c77fc28964",
   "metadata": {},
   "outputs": [
    {
     "name": "stdout",
     "output_type": "stream",
     "text": [
      "[1 2 3 4 5]\n"
     ]
    }
   ],
   "source": [
    "import numpy as np\n",
    "\n",
    "array=np.array([1,2,3,4,5])\n",
    "print(array)"
   ]
  },
  {
   "cell_type": "code",
   "execution_count": 3,
   "id": "f358451b-0199-4336-aa9b-d454b318ec91",
   "metadata": {},
   "outputs": [
    {
     "name": "stdout",
     "output_type": "stream",
     "text": [
      "f\n",
      "x\n"
     ]
    }
   ],
   "source": [
    "print(\"first index\"[0])\n",
    "print(\"last index\"[-1])\n"
   ]
  },
  {
   "cell_type": "code",
   "execution_count": 11,
   "id": "6612bfaa-7ae8-4e76-b0de-b1c78959d723",
   "metadata": {},
   "outputs": [
    {
     "name": "stdout",
     "output_type": "stream",
     "text": [
      "[1 2 3 4 5]\n",
      "first index 1\n",
      "last index 5\n",
      "The doubled array is [ 2  4  6  8 10]\n"
     ]
    }
   ],
   "source": [
    "import numpy as np\n",
    "\n",
    "array=np.array([1,2,3,4,5])\n",
    "print(array)\n",
    "print(\"first index\",array[0])\n",
    "print(\"last index\",array[-1])\n",
    "doubled_array= array*2\n",
    "print(\"The doubled array is\",doubled_array)"
   ]
  },
  {
   "cell_type": "code",
   "execution_count": 35,
   "id": "632f3f5d-fafb-4575-a745-1225dff7e5ca",
   "metadata": {},
   "outputs": [
    {
     "name": "stdout",
     "output_type": "stream",
     "text": [
      "[0. 0. 0. 0. 0. 0. 0. 0. 0. 0.]\n",
      "[1. 1. 1. 1. 1. 1. 1. 1. 1. 1.]\n",
      "[5. 5. 5. 5. 5. 5. 5. 5. 5. 5.]\n"
     ]
    }
   ],
   "source": [
    "import numpy as np\n",
    "a = np.zeros(10)\n",
    "print(a)\n",
    "b= np.ones(10)\n",
    "print(b)\n",
    "c= np.zeros(10)\n",
    "print(a+5)"
   ]
  },
  {
   "cell_type": "code",
   "execution_count": 61,
   "id": "b96b1c30-441e-4ffc-8dce-3369ff54a125",
   "metadata": {},
   "outputs": [
    {
     "name": "stdout",
     "output_type": "stream",
     "text": [
      "[[9 4 4]\n",
      " [8 6 8]\n",
      " [2 6 9]]\n"
     ]
    }
   ],
   "source": [
    "    import numpy as np\n",
    "    np.random.seed(122)\n",
    "    mat= np.random.randint(2,10,size=(3,3))\n",
    "    print(mat)"
   ]
  },
  {
   "cell_type": "code",
   "execution_count": null,
   "id": "c473d094-5188-4fea-a945-16e39212b699",
   "metadata": {},
   "outputs": [],
   "source": []
  }
 ],
 "metadata": {
  "kernelspec": {
   "display_name": "Python 3 (ipykernel)",
   "language": "python",
   "name": "python3"
  },
  "language_info": {
   "codemirror_mode": {
    "name": "ipython",
    "version": 3
   },
   "file_extension": ".py",
   "mimetype": "text/x-python",
   "name": "python",
   "nbconvert_exporter": "python",
   "pygments_lexer": "ipython3",
   "version": "3.12.4"
  }
 },
 "nbformat": 4,
 "nbformat_minor": 5
}
